{
 "cells": [
  {
   "cell_type": "markdown",
   "id": "02e2eede",
   "metadata": {},
   "source": [
    "# Importing Libraries"
   ]
  },
  {
   "cell_type": "code",
   "execution_count": 2,
   "id": "b0a1cc55",
   "metadata": {},
   "outputs": [],
   "source": [
    "import pandas as pd\n",
    "import numpy as np\n",
    "from math import sqrt\n",
    "import matplotlib.pyplot as plt\n",
    "from sklearn import neighbors\n",
    "from sklearn.neighbors import KNeighborsRegressor\n",
    "from sklearn.model_selection import cross_val_score\n",
    "import statsmodels.api as sm\n",
    "from sklearn.model_selection import train_test_split\n",
    "from sklearn.metrics import mean_absolute_error, mean_squared_error\n",
    "from statsmodels.tools.eval_measures import mse, rmse"
   ]
  },
  {
   "cell_type": "markdown",
   "id": "b0ee6708",
   "metadata": {},
   "source": [
    "# Combine files to create our DataFrame"
   ]
  },
  {
   "cell_type": "code",
   "execution_count": 3,
   "id": "80f11199",
   "metadata": {},
   "outputs": [],
   "source": [
    "df1 = pd.read_csv('audi.csv')\n",
    "df2 = pd.read_csv('bmw.csv')\n",
    "df3 = pd.read_csv('ford.csv')\n",
    "df4 = pd.read_csv('merc.csv')\n",
    "df5 = pd.read_csv('toyota.csv')\n",
    "\n",
    "used_cars_data = pd.concat([df1, df2, df3, df4, df5], axis=0, ignore_index=True)"
   ]
  },
  {
   "cell_type": "markdown",
   "id": "acbf482f",
   "metadata": {},
   "source": [
    "# Cleaning the Data"
   ]
  },
  {
   "cell_type": "code",
   "execution_count": 4,
   "id": "0ca08f69",
   "metadata": {},
   "outputs": [
    {
     "data": {
      "text/html": [
       "<div>\n",
       "<style scoped>\n",
       "    .dataframe tbody tr th:only-of-type {\n",
       "        vertical-align: middle;\n",
       "    }\n",
       "\n",
       "    .dataframe tbody tr th {\n",
       "        vertical-align: top;\n",
       "    }\n",
       "\n",
       "    .dataframe thead th {\n",
       "        text-align: right;\n",
       "    }\n",
       "</style>\n",
       "<table border=\"1\" class=\"dataframe\">\n",
       "  <thead>\n",
       "    <tr style=\"text-align: right;\">\n",
       "      <th></th>\n",
       "      <th>model</th>\n",
       "      <th>year</th>\n",
       "      <th>price</th>\n",
       "      <th>transmission</th>\n",
       "      <th>mileage</th>\n",
       "      <th>fuelType</th>\n",
       "      <th>tax</th>\n",
       "      <th>mpg</th>\n",
       "      <th>engineSize</th>\n",
       "    </tr>\n",
       "  </thead>\n",
       "  <tbody>\n",
       "    <tr>\n",
       "      <th>0</th>\n",
       "      <td>A1</td>\n",
       "      <td>2017</td>\n",
       "      <td>12500</td>\n",
       "      <td>Manual</td>\n",
       "      <td>15735</td>\n",
       "      <td>Petrol</td>\n",
       "      <td>150</td>\n",
       "      <td>55.4</td>\n",
       "      <td>1.4</td>\n",
       "    </tr>\n",
       "    <tr>\n",
       "      <th>1</th>\n",
       "      <td>A6</td>\n",
       "      <td>2016</td>\n",
       "      <td>16500</td>\n",
       "      <td>Automatic</td>\n",
       "      <td>36203</td>\n",
       "      <td>Diesel</td>\n",
       "      <td>20</td>\n",
       "      <td>64.2</td>\n",
       "      <td>2.0</td>\n",
       "    </tr>\n",
       "    <tr>\n",
       "      <th>2</th>\n",
       "      <td>A1</td>\n",
       "      <td>2016</td>\n",
       "      <td>11000</td>\n",
       "      <td>Manual</td>\n",
       "      <td>29946</td>\n",
       "      <td>Petrol</td>\n",
       "      <td>30</td>\n",
       "      <td>55.4</td>\n",
       "      <td>1.4</td>\n",
       "    </tr>\n",
       "    <tr>\n",
       "      <th>3</th>\n",
       "      <td>A4</td>\n",
       "      <td>2017</td>\n",
       "      <td>16800</td>\n",
       "      <td>Automatic</td>\n",
       "      <td>25952</td>\n",
       "      <td>Diesel</td>\n",
       "      <td>145</td>\n",
       "      <td>67.3</td>\n",
       "      <td>2.0</td>\n",
       "    </tr>\n",
       "    <tr>\n",
       "      <th>4</th>\n",
       "      <td>A3</td>\n",
       "      <td>2019</td>\n",
       "      <td>17300</td>\n",
       "      <td>Manual</td>\n",
       "      <td>1998</td>\n",
       "      <td>Petrol</td>\n",
       "      <td>145</td>\n",
       "      <td>49.6</td>\n",
       "      <td>1.0</td>\n",
       "    </tr>\n",
       "  </tbody>\n",
       "</table>\n",
       "</div>"
      ],
      "text/plain": [
       "  model  year  price transmission  mileage fuelType  tax   mpg  engineSize\n",
       "0    A1  2017  12500       Manual    15735   Petrol  150  55.4         1.4\n",
       "1    A6  2016  16500    Automatic    36203   Diesel   20  64.2         2.0\n",
       "2    A1  2016  11000       Manual    29946   Petrol   30  55.4         1.4\n",
       "3    A4  2017  16800    Automatic    25952   Diesel  145  67.3         2.0\n",
       "4    A3  2019  17300       Manual     1998   Petrol  145  49.6         1.0"
      ]
     },
     "execution_count": 4,
     "metadata": {},
     "output_type": "execute_result"
    }
   ],
   "source": [
    "used_cars_data.head()"
   ]
  },
  {
   "cell_type": "code",
   "execution_count": 5,
   "id": "980514e3",
   "metadata": {},
   "outputs": [
    {
     "name": "stdout",
     "output_type": "stream",
     "text": [
      "<class 'pandas.core.frame.DataFrame'>\n",
      "RangeIndex: 59271 entries, 0 to 59270\n",
      "Data columns (total 9 columns):\n",
      " #   Column        Non-Null Count  Dtype  \n",
      "---  ------        --------------  -----  \n",
      " 0   model         59271 non-null  object \n",
      " 1   year          59271 non-null  int64  \n",
      " 2   price         59271 non-null  int64  \n",
      " 3   transmission  59271 non-null  object \n",
      " 4   mileage       59271 non-null  int64  \n",
      " 5   fuelType      59271 non-null  object \n",
      " 6   tax           59271 non-null  int64  \n",
      " 7   mpg           59271 non-null  float64\n",
      " 8   engineSize    59271 non-null  float64\n",
      "dtypes: float64(2), int64(4), object(3)\n",
      "memory usage: 4.1+ MB\n"
     ]
    }
   ],
   "source": [
    "used_cars_data.info()"
   ]
  },
  {
   "cell_type": "code",
   "execution_count": 6,
   "id": "d6832dd6",
   "metadata": {},
   "outputs": [
    {
     "name": "stdout",
     "output_type": "stream",
     "text": [
      "              Total  Percent\n",
      "model             0      0.0\n",
      "year              0      0.0\n",
      "price             0      0.0\n",
      "transmission      0      0.0\n",
      "mileage           0      0.0\n",
      "fuelType          0      0.0\n",
      "tax               0      0.0\n",
      "mpg               0      0.0\n",
      "engineSize        0      0.0\n"
     ]
    }
   ],
   "source": [
    "#checking for missing values\n",
    "total_missing = used_cars_data.isnull().sum().sort_values(ascending=False)\n",
    "percent_missing = (used_cars_data.isnull().sum()/used_cars_data.isnull().count()).sort_values(ascending=False)\n",
    "missing_data = pd.concat([total_missing, percent_missing], axis=1, keys=['Total', 'Percent'])\n",
    "print(missing_data)"
   ]
  },
  {
   "cell_type": "code",
   "execution_count": 7,
   "id": "e9e52265",
   "metadata": {},
   "outputs": [
    {
     "name": "stdout",
     "output_type": "stream",
     "text": [
      "672\n"
     ]
    }
   ],
   "source": [
    "#checking for duplicated rows\n",
    "total_duplicated = used_cars_data.duplicated().sum()\n",
    "print(total_duplicated)"
   ]
  },
  {
   "cell_type": "code",
   "execution_count": 8,
   "id": "992c6dfd",
   "metadata": {},
   "outputs": [],
   "source": [
    "#dropping duplicated rows\n",
    "used_cars_data = used_cars_data.drop_duplicates()"
   ]
  },
  {
   "cell_type": "code",
   "execution_count": 9,
   "id": "bb03e706",
   "metadata": {},
   "outputs": [
    {
     "name": "stdout",
     "output_type": "stream",
     "text": [
      "Problematic values in column: year\n",
      "Problematic values in column: price\n",
      "Problematic values in column: mileage\n",
      "Problematic values in column: tax\n",
      "Problematic values in column: mpg\n",
      "Problematic values in column: engineSize\n"
     ]
    }
   ],
   "source": [
    "#checking for non numeric values in numeric columns\n",
    "for column_name in ['year', 'price', 'mileage', 'tax', 'mpg', 'engineSize']:\n",
    "    print(\"Problematic values in column: {}\".format(column_name))\n",
    "    for value in used_cars_data[column_name]:\n",
    "        try:\n",
    "            float(value)\n",
    "        except:\n",
    "            print(value)"
   ]
  },
  {
   "cell_type": "code",
   "execution_count": 10,
   "id": "66bd9768",
   "metadata": {},
   "outputs": [
    {
     "name": "stdout",
     "output_type": "stream",
     "text": [
      "168\n"
     ]
    }
   ],
   "source": [
    "#checking for zeros that don't make sense\n",
    "print(used_cars_data['engineSize'].value_counts()[0])\n",
    "used_cars_data = used_cars_data[used_cars_data['engineSize'] != 0]"
   ]
  },
  {
   "cell_type": "code",
   "execution_count": 11,
   "id": "ff5dbc8b",
   "metadata": {},
   "outputs": [
    {
     "data": {
      "text/plain": [
       "Manual       27323\n",
       "Semi-Auto    16175\n",
       "Automatic    14931\n",
       "Other            2\n",
       "Name: transmission, dtype: int64"
      ]
     },
     "execution_count": 11,
     "metadata": {},
     "output_type": "execute_result"
    }
   ],
   "source": [
    "#checking for odd values in categorical columns and dropping if needed\n",
    "used_cars_data.transmission.value_counts()"
   ]
  },
  {
   "cell_type": "code",
   "execution_count": 12,
   "id": "803864c2",
   "metadata": {},
   "outputs": [],
   "source": [
    "used_cars_data = used_cars_data[used_cars_data['transmission'] != 'Other']"
   ]
  },
  {
   "cell_type": "code",
   "execution_count": 13,
   "id": "34ae91ae",
   "metadata": {},
   "outputs": [
    {
     "data": {
      "text/plain": [
       "Petrol      28037\n",
       "Diesel      27721\n",
       "Hybrid       2520\n",
       "Other         148\n",
       "Electric        3\n",
       "Name: fuelType, dtype: int64"
      ]
     },
     "execution_count": 13,
     "metadata": {},
     "output_type": "execute_result"
    }
   ],
   "source": [
    "used_cars_data.fuelType.value_counts()"
   ]
  },
  {
   "cell_type": "code",
   "execution_count": 14,
   "id": "5f32d18d",
   "metadata": {},
   "outputs": [],
   "source": [
    "used_cars_data = used_cars_data[used_cars_data['fuelType'] != 'Other']"
   ]
  },
  {
   "cell_type": "code",
   "execution_count": 15,
   "id": "c693565a",
   "metadata": {
    "scrolled": true
   },
   "outputs": [
    {
     "data": {
      "image/png": "[encoded data removed]",
      "text/plain": [
       "<Figure size 432x288 with 1 Axes>"
      ]
     },
     "metadata": {
      "needs_background": "light"
     },
     "output_type": "display_data"
    }
   ],
   "source": [
    "#checking for outliers and dropping if they seem to be a mistake, or a special case that wouldn't fit the model\n",
    "#ex: car from the year 2060 = mistake\n",
    "#ex: 1970 mint condition corvette stingray = special case that doesn't help the model\n",
    "plt.boxplot(used_cars_data['mileage'], whis=10)\n",
    "plt.title('Box plot of mileage')\n",
    "plt.show()"
   ]
  },
  {
   "cell_type": "code",
   "execution_count": 16,
   "id": "4236d15a",
   "metadata": {},
   "outputs": [],
   "source": [
    "used_cars_data = used_cars_data[used_cars_data['mileage'] < 300000]"
   ]
  },
  {
   "cell_type": "code",
   "execution_count": 17,
   "id": "2e789b05",
   "metadata": {
    "scrolled": true
   },
   "outputs": [
    {
     "data": {
      "image/png": "[encoded data removed]",
      "text/plain": [
       "<Figure size 432x288 with 1 Axes>"
      ]
     },
     "metadata": {
      "needs_background": "light"
     },
     "output_type": "display_data"
    }
   ],
   "source": [
    "plt.boxplot(used_cars_data['price'], whis=10)\n",
    "plt.title('Box plot of price')\n",
    "plt.show()"
   ]
  },
  {
   "cell_type": "code",
   "execution_count": 18,
   "id": "2a47d01a",
   "metadata": {},
   "outputs": [],
   "source": [
    "used_cars_data = used_cars_data[used_cars_data['price'] < 140000]"
   ]
  },
  {
   "cell_type": "code",
   "execution_count": 19,
   "id": "d6fc643e",
   "metadata": {
    "scrolled": true
   },
   "outputs": [
    {
     "data": {
      "image/png": "[encoded data removed]",
      "text/plain": [
       "<Figure size 432x288 with 1 Axes>"
      ]
     },
     "metadata": {
      "needs_background": "light"
     },
     "output_type": "display_data"
    }
   ],
   "source": [
    "plt.boxplot(used_cars_data['mpg'], whis=10)\n",
    "plt.title('Box plot of mpg')\n",
    "plt.show()"
   ]
  },
  {
   "cell_type": "code",
   "execution_count": 20,
   "id": "af871fca",
   "metadata": {},
   "outputs": [],
   "source": [
    "used_cars_data = used_cars_data[used_cars_data['mpg'] > 5]\n",
    "used_cars_data = used_cars_data[used_cars_data['mpg'] < 200]"
   ]
  },
  {
   "cell_type": "code",
   "execution_count": 21,
   "id": "62aaa141",
   "metadata": {
    "scrolled": true
   },
   "outputs": [
    {
     "data": {
      "image/png": "[encoded data removed]",
      "text/plain": [
       "<Figure size 432x288 with 1 Axes>"
      ]
     },
     "metadata": {
      "needs_background": "light"
     },
     "output_type": "display_data"
    }
   ],
   "source": [
    "plt.boxplot(used_cars_data['year'], whis=10)\n",
    "plt.title('Box plot of year')\n",
    "plt.show()"
   ]
  },
  {
   "cell_type": "code",
   "execution_count": 22,
   "id": "06f86578",
   "metadata": {},
   "outputs": [],
   "source": [
    "used_cars_data = used_cars_data[used_cars_data['year'] < 2022]"
   ]
  },
  {
   "cell_type": "code",
   "execution_count": 23,
   "id": "d2b12758",
   "metadata": {
    "scrolled": true
   },
   "outputs": [
    {
     "data": {
      "image/png": "[encoded data removed]",
      "text/plain": [
       "<Figure size 432x288 with 1 Axes>"
      ]
     },
     "metadata": {
      "needs_background": "light"
     },
     "output_type": "display_data"
    }
   ],
   "source": [
    "plt.boxplot(used_cars_data['tax'], whis=10)\n",
    "plt.title('Box plot of tax')\n",
    "plt.show()"
   ]
  },
  {
   "cell_type": "code",
   "execution_count": 24,
   "id": "2bc865a1",
   "metadata": {},
   "outputs": [],
   "source": [
    "used_cars_data = used_cars_data[used_cars_data['tax'] < 400]"
   ]
  },
  {
   "cell_type": "code",
   "execution_count": 25,
   "id": "ac2f838c",
   "metadata": {},
   "outputs": [
    {
     "data": {
      "image/png": "[encoded data removed]",
      "text/plain": [
       "<Figure size 432x288 with 1 Axes>"
      ]
     },
     "metadata": {
      "needs_background": "light"
     },
     "output_type": "display_data"
    }
   ],
   "source": [
    "plt.boxplot(used_cars_data['engineSize'], whis=10)\n",
    "plt.title('Box plot of engineSize')\n",
    "plt.show()"
   ]
  },
  {
   "cell_type": "code",
   "execution_count": 26,
   "id": "e62e165e",
   "metadata": {},
   "outputs": [
    {
     "name": "stdout",
     "output_type": "stream",
     "text": [
      "<class 'pandas.core.frame.DataFrame'>\n",
      "Int64Index: 58075 entries, 0 to 59270\n",
      "Data columns (total 9 columns):\n",
      " #   Column        Non-Null Count  Dtype  \n",
      "---  ------        --------------  -----  \n",
      " 0   model         58075 non-null  object \n",
      " 1   year          58075 non-null  int64  \n",
      " 2   price         58075 non-null  int64  \n",
      " 3   transmission  58075 non-null  object \n",
      " 4   mileage       58075 non-null  int64  \n",
      " 5   fuelType      58075 non-null  object \n",
      " 6   tax           58075 non-null  int64  \n",
      " 7   mpg           58075 non-null  float64\n",
      " 8   engineSize    58075 non-null  float64\n",
      "dtypes: float64(2), int64(4), object(3)\n",
      "memory usage: 4.4+ MB\n"
     ]
    }
   ],
   "source": [
    "used_cars_data.info()"
   ]
  },
  {
   "cell_type": "markdown",
   "id": "f0eb59ca",
   "metadata": {},
   "source": [
    "# EDA"
   ]
  },
  {
   "cell_type": "code",
   "execution_count": 27,
   "id": "cb35c3bf",
   "metadata": {},
   "outputs": [
    {
     "data": {
      "text/plain": [
       "Text(0.5, 1.0, 'engineSize')"
      ]
     },
     "execution_count": 27,
     "metadata": {},
     "output_type": "execute_result"
    },
    {
     "data": {
      "image/png": "[encoded data removed]",
      "text/plain": [
       "<Figure size 1296x1080 with 6 Axes>"
      ]
     },
     "metadata": {
      "needs_background": "light"
     },
     "output_type": "display_data"
    }
   ],
   "source": [
    "#visualizing the data\n",
    "plt.figure(figsize=(18,15))\n",
    "\n",
    "plt.subplot(3, 2, 1)\n",
    "plt.hist(used_cars_data[\"price\"])\n",
    "plt.title(\"price\")\n",
    "\n",
    "plt.subplot(3, 2, 2)\n",
    "plt.hist(used_cars_data[\"mileage\"])\n",
    "plt.title(\"mileage\")\n",
    "\n",
    "plt.subplot(3, 2, 3)\n",
    "plt.hist(used_cars_data[\"year\"])\n",
    "plt.title(\"year\")\n",
    "\n",
    "plt.subplot(3, 2, 4)\n",
    "plt.hist(used_cars_data[\"tax\"])\n",
    "plt.title(\"tax\")\n",
    "\n",
    "plt.subplot(3, 2, 5)\n",
    "plt.hist(used_cars_data[\"mpg\"])\n",
    "plt.title(\"mpg\")\n",
    "\n",
    "plt.subplot(3, 2, 6)\n",
    "plt.hist(used_cars_data[\"engineSize\"])\n",
    "plt.title(\"engineSize\")\n"
   ]
  },
  {
   "cell_type": "code",
   "execution_count": 28,
   "id": "15f4aa55",
   "metadata": {},
   "outputs": [
    {
     "data": {
      "text/html": [
       "<div>\n",
       "<style scoped>\n",
       "    .dataframe tbody tr th:only-of-type {\n",
       "        vertical-align: middle;\n",
       "    }\n",
       "\n",
       "    .dataframe tbody tr th {\n",
       "        vertical-align: top;\n",
       "    }\n",
       "\n",
       "    .dataframe thead th {\n",
       "        text-align: right;\n",
       "    }\n",
       "</style>\n",
       "<table border=\"1\" class=\"dataframe\">\n",
       "  <thead>\n",
       "    <tr style=\"text-align: right;\">\n",
       "      <th></th>\n",
       "      <th>year</th>\n",
       "      <th>price</th>\n",
       "      <th>mileage</th>\n",
       "      <th>tax</th>\n",
       "      <th>mpg</th>\n",
       "      <th>engineSize</th>\n",
       "    </tr>\n",
       "  </thead>\n",
       "  <tbody>\n",
       "    <tr>\n",
       "      <th>count</th>\n",
       "      <td>58075.00000</td>\n",
       "      <td>58075.000000</td>\n",
       "      <td>58075.000000</td>\n",
       "      <td>58075.000000</td>\n",
       "      <td>58075.000000</td>\n",
       "      <td>58075.000000</td>\n",
       "    </tr>\n",
       "    <tr>\n",
       "      <th>mean</th>\n",
       "      <td>2017.02619</td>\n",
       "      <td>18787.117073</td>\n",
       "      <td>23698.877142</td>\n",
       "      <td>119.248730</td>\n",
       "      <td>56.024852</td>\n",
       "      <td>1.776334</td>\n",
       "    </tr>\n",
       "    <tr>\n",
       "      <th>std</th>\n",
       "      <td>2.15504</td>\n",
       "      <td>10937.942831</td>\n",
       "      <td>21539.094368</td>\n",
       "      <td>61.989538</td>\n",
       "      <td>13.663628</td>\n",
       "      <td>0.601689</td>\n",
       "    </tr>\n",
       "    <tr>\n",
       "      <th>min</th>\n",
       "      <td>1996.00000</td>\n",
       "      <td>495.000000</td>\n",
       "      <td>1.000000</td>\n",
       "      <td>0.000000</td>\n",
       "      <td>5.500000</td>\n",
       "      <td>1.000000</td>\n",
       "    </tr>\n",
       "    <tr>\n",
       "      <th>25%</th>\n",
       "      <td>2016.00000</td>\n",
       "      <td>11000.000000</td>\n",
       "      <td>7639.500000</td>\n",
       "      <td>125.000000</td>\n",
       "      <td>47.900000</td>\n",
       "      <td>1.400000</td>\n",
       "    </tr>\n",
       "    <tr>\n",
       "      <th>50%</th>\n",
       "      <td>2017.00000</td>\n",
       "      <td>16498.000000</td>\n",
       "      <td>17948.000000</td>\n",
       "      <td>145.000000</td>\n",
       "      <td>56.500000</td>\n",
       "      <td>2.000000</td>\n",
       "    </tr>\n",
       "    <tr>\n",
       "      <th>75%</th>\n",
       "      <td>2019.00000</td>\n",
       "      <td>23450.000000</td>\n",
       "      <td>33130.500000</td>\n",
       "      <td>145.000000</td>\n",
       "      <td>64.200000</td>\n",
       "      <td>2.000000</td>\n",
       "    </tr>\n",
       "    <tr>\n",
       "      <th>max</th>\n",
       "      <td>2020.00000</td>\n",
       "      <td>139995.000000</td>\n",
       "      <td>240494.000000</td>\n",
       "      <td>330.000000</td>\n",
       "      <td>188.300000</td>\n",
       "      <td>6.600000</td>\n",
       "    </tr>\n",
       "  </tbody>\n",
       "</table>\n",
       "</div>"
      ],
      "text/plain": [
       "              year          price        mileage           tax           mpg  \\\n",
       "count  58075.00000   58075.000000   58075.000000  58075.000000  58075.000000   \n",
       "mean    2017.02619   18787.117073   23698.877142    119.248730     56.024852   \n",
       "std        2.15504   10937.942831   21539.094368     61.989538     13.663628   \n",
       "min     1996.00000     495.000000       1.000000      0.000000      5.500000   \n",
       "25%     2016.00000   11000.000000    7639.500000    125.000000     47.900000   \n",
       "50%     2017.00000   16498.000000   17948.000000    145.000000     56.500000   \n",
       "75%     2019.00000   23450.000000   33130.500000    145.000000     64.200000   \n",
       "max     2020.00000  139995.000000  240494.000000    330.000000    188.300000   \n",
       "\n",
       "         engineSize  \n",
       "count  58075.000000  \n",
       "mean       1.776334  \n",
       "std        0.601689  \n",
       "min        1.000000  \n",
       "25%        1.400000  \n",
       "50%        2.000000  \n",
       "75%        2.000000  \n",
       "max        6.600000  "
      ]
     },
     "execution_count": 28,
     "metadata": {},
     "output_type": "execute_result"
    }
   ],
   "source": [
    "used_cars_data.describe()"
   ]
  },
  {
   "cell_type": "code",
   "execution_count": 29,
   "id": "5853a14c",
   "metadata": {},
   "outputs": [
    {
     "data": {
      "text/html": [
       "<div>\n",
       "<style scoped>\n",
       "    .dataframe tbody tr th:only-of-type {\n",
       "        vertical-align: middle;\n",
       "    }\n",
       "\n",
       "    .dataframe tbody tr th {\n",
       "        vertical-align: top;\n",
       "    }\n",
       "\n",
       "    .dataframe thead th {\n",
       "        text-align: right;\n",
       "    }\n",
       "</style>\n",
       "<table border=\"1\" class=\"dataframe\">\n",
       "  <thead>\n",
       "    <tr style=\"text-align: right;\">\n",
       "      <th></th>\n",
       "      <th>year</th>\n",
       "      <th>price</th>\n",
       "      <th>mileage</th>\n",
       "      <th>tax</th>\n",
       "      <th>mpg</th>\n",
       "      <th>engineSize</th>\n",
       "    </tr>\n",
       "  </thead>\n",
       "  <tbody>\n",
       "    <tr>\n",
       "      <th>year</th>\n",
       "      <td>1.000000</td>\n",
       "      <td>0.520272</td>\n",
       "      <td>-0.748448</td>\n",
       "      <td>0.208873</td>\n",
       "      <td>-0.145623</td>\n",
       "      <td>-0.009701</td>\n",
       "    </tr>\n",
       "    <tr>\n",
       "      <th>price</th>\n",
       "      <td>0.520272</td>\n",
       "      <td>1.000000</td>\n",
       "      <td>-0.444944</td>\n",
       "      <td>0.331566</td>\n",
       "      <td>-0.439576</td>\n",
       "      <td>0.655458</td>\n",
       "    </tr>\n",
       "    <tr>\n",
       "      <th>mileage</th>\n",
       "      <td>-0.748448</td>\n",
       "      <td>-0.444944</td>\n",
       "      <td>1.000000</td>\n",
       "      <td>-0.223979</td>\n",
       "      <td>0.202043</td>\n",
       "      <td>0.078702</td>\n",
       "    </tr>\n",
       "    <tr>\n",
       "      <th>tax</th>\n",
       "      <td>0.208873</td>\n",
       "      <td>0.331566</td>\n",
       "      <td>-0.223979</td>\n",
       "      <td>1.000000</td>\n",
       "      <td>-0.542222</td>\n",
       "      <td>0.290127</td>\n",
       "    </tr>\n",
       "    <tr>\n",
       "      <th>mpg</th>\n",
       "      <td>-0.145623</td>\n",
       "      <td>-0.439576</td>\n",
       "      <td>0.202043</td>\n",
       "      <td>-0.542222</td>\n",
       "      <td>1.000000</td>\n",
       "      <td>-0.348588</td>\n",
       "    </tr>\n",
       "    <tr>\n",
       "      <th>engineSize</th>\n",
       "      <td>-0.009701</td>\n",
       "      <td>0.655458</td>\n",
       "      <td>0.078702</td>\n",
       "      <td>0.290127</td>\n",
       "      <td>-0.348588</td>\n",
       "      <td>1.000000</td>\n",
       "    </tr>\n",
       "  </tbody>\n",
       "</table>\n",
       "</div>"
      ],
      "text/plain": [
       "                year     price   mileage       tax       mpg  engineSize\n",
       "year        1.000000  0.520272 -0.748448  0.208873 -0.145623   -0.009701\n",
       "price       0.520272  1.000000 -0.444944  0.331566 -0.439576    0.655458\n",
       "mileage    -0.748448 -0.444944  1.000000 -0.223979  0.202043    0.078702\n",
       "tax         0.208873  0.331566 -0.223979  1.000000 -0.542222    0.290127\n",
       "mpg        -0.145623 -0.439576  0.202043 -0.542222  1.000000   -0.348588\n",
       "engineSize -0.009701  0.655458  0.078702  0.290127 -0.348588    1.000000"
      ]
     },
     "execution_count": 29,
     "metadata": {},
     "output_type": "execute_result"
    }
   ],
   "source": [
    "#checking correlation with price for numeric columns\n",
    "used_cars_data.corr()"
   ]
  },
  {
   "cell_type": "markdown",
   "id": "c0762118",
   "metadata": {},
   "source": [
    "Notice that tax is the least correlated with price(our target). Let's drop the tax column. "
   ]
  },
  {
   "cell_type": "code",
   "execution_count": 30,
   "id": "a305869b",
   "metadata": {},
   "outputs": [
    {
     "data": {
      "text/html": [
       "<div>\n",
       "<style scoped>\n",
       "    .dataframe tbody tr th:only-of-type {\n",
       "        vertical-align: middle;\n",
       "    }\n",
       "\n",
       "    .dataframe tbody tr th {\n",
       "        vertical-align: top;\n",
       "    }\n",
       "\n",
       "    .dataframe thead th {\n",
       "        text-align: right;\n",
       "    }\n",
       "</style>\n",
       "<table border=\"1\" class=\"dataframe\">\n",
       "  <thead>\n",
       "    <tr style=\"text-align: right;\">\n",
       "      <th></th>\n",
       "      <th>model</th>\n",
       "      <th>year</th>\n",
       "      <th>price</th>\n",
       "      <th>transmission</th>\n",
       "      <th>mileage</th>\n",
       "      <th>fuelType</th>\n",
       "      <th>mpg</th>\n",
       "      <th>engineSize</th>\n",
       "    </tr>\n",
       "  </thead>\n",
       "  <tbody>\n",
       "    <tr>\n",
       "      <th>0</th>\n",
       "      <td>A1</td>\n",
       "      <td>2017</td>\n",
       "      <td>12500</td>\n",
       "      <td>Manual</td>\n",
       "      <td>15735</td>\n",
       "      <td>Petrol</td>\n",
       "      <td>55.4</td>\n",
       "      <td>1.4</td>\n",
       "    </tr>\n",
       "    <tr>\n",
       "      <th>1</th>\n",
       "      <td>A6</td>\n",
       "      <td>2016</td>\n",
       "      <td>16500</td>\n",
       "      <td>Automatic</td>\n",
       "      <td>36203</td>\n",
       "      <td>Diesel</td>\n",
       "      <td>64.2</td>\n",
       "      <td>2.0</td>\n",
       "    </tr>\n",
       "    <tr>\n",
       "      <th>2</th>\n",
       "      <td>A1</td>\n",
       "      <td>2016</td>\n",
       "      <td>11000</td>\n",
       "      <td>Manual</td>\n",
       "      <td>29946</td>\n",
       "      <td>Petrol</td>\n",
       "      <td>55.4</td>\n",
       "      <td>1.4</td>\n",
       "    </tr>\n",
       "    <tr>\n",
       "      <th>3</th>\n",
       "      <td>A4</td>\n",
       "      <td>2017</td>\n",
       "      <td>16800</td>\n",
       "      <td>Automatic</td>\n",
       "      <td>25952</td>\n",
       "      <td>Diesel</td>\n",
       "      <td>67.3</td>\n",
       "      <td>2.0</td>\n",
       "    </tr>\n",
       "    <tr>\n",
       "      <th>4</th>\n",
       "      <td>A3</td>\n",
       "      <td>2019</td>\n",
       "      <td>17300</td>\n",
       "      <td>Manual</td>\n",
       "      <td>1998</td>\n",
       "      <td>Petrol</td>\n",
       "      <td>49.6</td>\n",
       "      <td>1.0</td>\n",
       "    </tr>\n",
       "    <tr>\n",
       "      <th>...</th>\n",
       "      <td>...</td>\n",
       "      <td>...</td>\n",
       "      <td>...</td>\n",
       "      <td>...</td>\n",
       "      <td>...</td>\n",
       "      <td>...</td>\n",
       "      <td>...</td>\n",
       "      <td>...</td>\n",
       "    </tr>\n",
       "    <tr>\n",
       "      <th>59266</th>\n",
       "      <td>IQ</td>\n",
       "      <td>2011</td>\n",
       "      <td>5500</td>\n",
       "      <td>Automatic</td>\n",
       "      <td>30000</td>\n",
       "      <td>Petrol</td>\n",
       "      <td>58.9</td>\n",
       "      <td>1.0</td>\n",
       "    </tr>\n",
       "    <tr>\n",
       "      <th>59267</th>\n",
       "      <td>Urban Cruiser</td>\n",
       "      <td>2011</td>\n",
       "      <td>4985</td>\n",
       "      <td>Manual</td>\n",
       "      <td>36154</td>\n",
       "      <td>Petrol</td>\n",
       "      <td>50.4</td>\n",
       "      <td>1.3</td>\n",
       "    </tr>\n",
       "    <tr>\n",
       "      <th>59268</th>\n",
       "      <td>Urban Cruiser</td>\n",
       "      <td>2012</td>\n",
       "      <td>4995</td>\n",
       "      <td>Manual</td>\n",
       "      <td>46000</td>\n",
       "      <td>Diesel</td>\n",
       "      <td>57.6</td>\n",
       "      <td>1.4</td>\n",
       "    </tr>\n",
       "    <tr>\n",
       "      <th>59269</th>\n",
       "      <td>Urban Cruiser</td>\n",
       "      <td>2011</td>\n",
       "      <td>3995</td>\n",
       "      <td>Manual</td>\n",
       "      <td>60700</td>\n",
       "      <td>Petrol</td>\n",
       "      <td>50.4</td>\n",
       "      <td>1.3</td>\n",
       "    </tr>\n",
       "    <tr>\n",
       "      <th>59270</th>\n",
       "      <td>Urban Cruiser</td>\n",
       "      <td>2011</td>\n",
       "      <td>4495</td>\n",
       "      <td>Manual</td>\n",
       "      <td>45128</td>\n",
       "      <td>Petrol</td>\n",
       "      <td>50.4</td>\n",
       "      <td>1.3</td>\n",
       "    </tr>\n",
       "  </tbody>\n",
       "</table>\n",
       "<p>58075 rows × 8 columns</p>\n",
       "</div>"
      ],
      "text/plain": [
       "                model  year  price transmission  mileage fuelType   mpg  \\\n",
       "0                  A1  2017  12500       Manual    15735   Petrol  55.4   \n",
       "1                  A6  2016  16500    Automatic    36203   Diesel  64.2   \n",
       "2                  A1  2016  11000       Manual    29946   Petrol  55.4   \n",
       "3                  A4  2017  16800    Automatic    25952   Diesel  67.3   \n",
       "4                  A3  2019  17300       Manual     1998   Petrol  49.6   \n",
       "...               ...   ...    ...          ...      ...      ...   ...   \n",
       "59266              IQ  2011   5500    Automatic    30000   Petrol  58.9   \n",
       "59267   Urban Cruiser  2011   4985       Manual    36154   Petrol  50.4   \n",
       "59268   Urban Cruiser  2012   4995       Manual    46000   Diesel  57.6   \n",
       "59269   Urban Cruiser  2011   3995       Manual    60700   Petrol  50.4   \n",
       "59270   Urban Cruiser  2011   4495       Manual    45128   Petrol  50.4   \n",
       "\n",
       "       engineSize  \n",
       "0             1.4  \n",
       "1             2.0  \n",
       "2             1.4  \n",
       "3             2.0  \n",
       "4             1.0  \n",
       "...           ...  \n",
       "59266         1.0  \n",
       "59267         1.3  \n",
       "59268         1.4  \n",
       "59269         1.3  \n",
       "59270         1.3  \n",
       "\n",
       "[58075 rows x 8 columns]"
      ]
     },
     "execution_count": 30,
     "metadata": {},
     "output_type": "execute_result"
    }
   ],
   "source": [
    "used_cars_data.drop(['tax'], axis=1)"
   ]
  },
  {
   "cell_type": "code",
   "execution_count": 31,
   "id": "12e35c0d",
   "metadata": {},
   "outputs": [
    {
     "data": {
      "image/png": "[encoded data removed]",
      "text/plain": [
       "<Figure size 2160x3600 with 2 Axes>"
      ]
     },
     "metadata": {
      "needs_background": "light"
     },
     "output_type": "display_data"
    }
   ],
   "source": [
    "#checking correlation for non numeric columns\n",
    "\n",
    "non_numeric_columns = used_cars_data.select_dtypes(['object']).columns\n",
    "\n",
    "#We don't want to plot the models because there are too many different model types to be useful\n",
    "\n",
    "non_numeric_columns = non_numeric_columns.drop(['model'])\n",
    "\n",
    "plt.figure(figsize=(30,50))\n",
    "\n",
    "for index, column in enumerate(non_numeric_columns):\n",
    "    plt.subplot(10,5,index+1)\n",
    "    plt.bar(used_cars_data.groupby(column)['price'].mean().index, used_cars_data.groupby(column)['price'].mean(), \n",
    "           color = (\"yellow\",\"blue\"))\n",
    "    plt.title(\"Average price with respect to {}\".format(column))\n",
    "    plt.ylabel(\"Average Sale Price\")\n",
    "    plt.xlabel(column)\n",
    "    plt.xticks(rotation='vertical')\n",
    "\n",
    "plt.tight_layout()\n",
    "plt.show()"
   ]
  },
  {
   "cell_type": "markdown",
   "id": "ff0a3a5c",
   "metadata": {},
   "source": [
    "Transmission type shows a larger variance with respect to price so we will include it in the model for now"
   ]
  },
  {
   "cell_type": "code",
   "execution_count": 32,
   "id": "864f204e",
   "metadata": {
    "scrolled": false
   },
   "outputs": [],
   "source": [
    "#one-hot encoding to be able to use the categorical features in the model\n",
    "features_df = used_cars_data[['mileage', 'year', 'mpg', 'engineSize']]\n",
    "transmission_df = pd.get_dummies(used_cars_data['transmission'], drop_first=True)\n",
    "features_df = features_df.merge(transmission_df, left_index=True, right_index=True)"
   ]
  },
  {
   "cell_type": "code",
   "execution_count": 33,
   "id": "8bc300ee",
   "metadata": {},
   "outputs": [
    {
     "name": "stdout",
     "output_type": "stream",
     "text": [
      "<class 'pandas.core.frame.DataFrame'>\n",
      "Int64Index: 58075 entries, 0 to 59270\n",
      "Data columns (total 6 columns):\n",
      " #   Column      Non-Null Count  Dtype  \n",
      "---  ------      --------------  -----  \n",
      " 0   mileage     58075 non-null  int64  \n",
      " 1   year        58075 non-null  int64  \n",
      " 2   mpg         58075 non-null  float64\n",
      " 3   engineSize  58075 non-null  float64\n",
      " 4   Manual      58075 non-null  uint8  \n",
      " 5   Semi-Auto   58075 non-null  uint8  \n",
      "dtypes: float64(2), int64(2), uint8(2)\n",
      "memory usage: 4.3 MB\n"
     ]
    }
   ],
   "source": [
    "features_df.info()"
   ]
  },
  {
   "cell_type": "markdown",
   "id": "4cb64ad6",
   "metadata": {},
   "source": [
    "# Running our Models"
   ]
  },
  {
   "cell_type": "code",
   "execution_count": 34,
   "id": "9233c220",
   "metadata": {},
   "outputs": [
    {
     "name": "stdout",
     "output_type": "stream",
     "text": [
      "The number of observations in training set is 46460\n",
      "The number of observations in test set is 11615\n"
     ]
    }
   ],
   "source": [
    "#splitting into train and test sets\n",
    "\n",
    "X = features_df\n",
    "Y = used_cars_data['price']\n",
    "\n",
    "X_train, X_test, y_train, y_test = train_test_split(X, Y, test_size = 0.2, random_state = 465)\n",
    "\n",
    "print(\"The number of observations in training set is {}\".format(X_train.shape[0]))\n",
    "print(\"The number of observations in test set is {}\".format(X_test.shape[0]))"
   ]
  },
  {
   "cell_type": "code",
   "execution_count": 35,
   "id": "5a510cb9",
   "metadata": {},
   "outputs": [
    {
     "name": "stdout",
     "output_type": "stream",
     "text": [
      "                            OLS Regression Results                            \n",
      "==============================================================================\n",
      "Dep. Variable:                  price   R-squared:                       0.755\n",
      "Model:                            OLS   Adj. R-squared:                  0.755\n",
      "Method:                 Least Squares   F-statistic:                 2.388e+04\n",
      "Date:                Mon, 17 Oct 2022   Prob (F-statistic):               0.00\n",
      "Time:                        10:20:24   Log-Likelihood:            -4.6542e+05\n",
      "No. Observations:               46460   AIC:                         9.309e+05\n",
      "Df Residuals:                   46453   BIC:                         9.309e+05\n",
      "Df Model:                           6                                         \n",
      "Covariance Type:            nonrobust                                         \n",
      "==============================================================================\n",
      "                 coef    std err          t      P>|t|      [0.025      0.975]\n",
      "------------------------------------------------------------------------------\n",
      "const      -3.493e+06    3.6e+04    -97.128      0.000   -3.56e+06   -3.42e+06\n",
      "mileage       -0.0970      0.002    -53.538      0.000      -0.101      -0.093\n",
      "year        1736.5077     17.816     97.467      0.000    1701.587    1771.428\n",
      "mpg         -101.9390      2.026    -50.314      0.000    -105.910     -97.968\n",
      "engineSize  1.019e+04     53.764    189.517      0.000    1.01e+04    1.03e+04\n",
      "Manual     -2474.2633     70.542    -35.075      0.000   -2612.527   -2336.000\n",
      "Semi-Auto    747.4564     70.197     10.648      0.000     609.869     885.043\n",
      "==============================================================================\n",
      "Omnibus:                    32932.635   Durbin-Watson:                   1.993\n",
      "Prob(Omnibus):                  0.000   Jarque-Bera (JB):          1717677.737\n",
      "Skew:                           2.850   Prob(JB):                         0.00\n",
      "Kurtosis:                      32.237   Cond. No.                     4.57e+07\n",
      "==============================================================================\n",
      "\n",
      "Notes:\n",
      "[1] Standard Errors assume that the covariance matrix of the errors is correctly specified.\n",
      "[2] The condition number is large, 4.57e+07. This might indicate that there are\n",
      "strong multicollinearity or other numerical problems.\n"
     ]
    }
   ],
   "source": [
    "#fit an OLS model using statsmodels\n",
    "\n",
    "X_train = sm.add_constant(X_train)\n",
    "\n",
    "results = sm.OLS(y_train, X_train).fit()\n",
    "\n",
    "print(results.summary())"
   ]
  },
  {
   "cell_type": "code",
   "execution_count": 40,
   "id": "674ad9ef",
   "metadata": {},
   "outputs": [
    {
     "data": {
      "image/png": "[encoded data removed]",
      "text/plain": [
       "<Figure size 432x288 with 1 Axes>"
      ]
     },
     "metadata": {
      "needs_background": "light"
     },
     "output_type": "display_data"
    },
    {
     "name": "stdout",
     "output_type": "stream",
     "text": [
      "Mean absolute error of the prediction is: 3503.30914333732\n",
      "Mean squared error of the prediction is: 27786416.193683036\n",
      "Root mean squared error of the prediction is: 5271.282215332721\n",
      "Mean absolute percentage error of the prediction is: 24.66090568403283\n"
     ]
    }
   ],
   "source": [
    "#making predictions on the test set\n",
    "\n",
    "X_test = sm.add_constant(X_test)\n",
    "\n",
    "y_preds = results.predict(X_test)\n",
    "\n",
    "plt.scatter(y_test, y_preds)\n",
    "plt.plot(y_test, y_test, color=\"red\")\n",
    "plt.xlabel(\"true values\")\n",
    "plt.ylabel(\"predicted values\")\n",
    "plt.title(\"Price: true and predicted values\")\n",
    "plt.show()\n",
    "\n",
    "print(\"Mean absolute error of the prediction is: {}\".format(mean_absolute_error(y_test, y_preds)))\n",
    "print(\"Mean squared error of the prediction is: {}\".format(mse(y_test, y_preds)))\n",
    "print(\"Root mean squared error of the prediction is: {}\".format(rmse(y_test, y_preds)))\n",
    "print(\"Mean absolute percentage error of the prediction is: {}\".format(np.mean(np.abs((y_test - y_preds) / y_test)) * 100))"
   ]
  },
  {
   "cell_type": "code",
   "execution_count": 37,
   "id": "312944ee",
   "metadata": {},
   "outputs": [
    {
     "name": "stdout",
     "output_type": "stream",
     "text": [
      "RMSE value for k=  1 is: 9268.74481621906\n",
      "RMSE value for k=  2 is: 8218.207785906437\n",
      "RMSE value for k=  3 is: 7988.130199983765\n",
      "RMSE value for k=  4 is: 7871.0708045996025\n",
      "RMSE value for k=  5 is: 7825.238784225296\n",
      "RMSE value for k=  6 is: 7796.6852570500005\n",
      "RMSE value for k=  7 is: 7789.1161120049765\n",
      "RMSE value for k=  8 is: 7789.657034161256\n",
      "RMSE value for k=  9 is: 7791.9106806438\n",
      "RMSE value for k=  10 is: 7812.275758774659\n",
      "RMSE value for k=  11 is: 7828.050566501385\n",
      "RMSE value for k=  12 is: 7826.69550686243\n",
      "RMSE value for k=  13 is: 7829.943220943696\n",
      "RMSE value for k=  14 is: 7856.544433781778\n",
      "RMSE value for k=  15 is: 7861.306766130444\n"
     ]
    }
   ],
   "source": [
    "#Now trying KNN to compare\n",
    "\n",
    "rmse_val = [] #to store rmse values for different k\n",
    "for K in range(15):\n",
    "    K = K+1\n",
    "    model = neighbors.KNeighborsRegressor(n_neighbors = K)\n",
    "\n",
    "    model.fit(X_train, y_train)  #fit the model\n",
    "    pred=model.predict(X_test) #make prediction on test set\n",
    "    error = sqrt(mean_squared_error(y_test,pred)) #calculate rmse\n",
    "    rmse_val.append(error) #store rmse values\n",
    "    print('RMSE value for k= ' , K , 'is:', error)"
   ]
  },
  {
   "cell_type": "code",
   "execution_count": 38,
   "id": "2ca24dea",
   "metadata": {},
   "outputs": [
    {
     "data": {
      "text/plain": [
       "<AxesSubplot:>"
      ]
     },
     "execution_count": 38,
     "metadata": {},
     "output_type": "execute_result"
    },
    {
     "data": {
      "image/png": "[encoded data removed]",
      "text/plain": [
       "<Figure size 432x288 with 1 Axes>"
      ]
     },
     "metadata": {
      "needs_background": "light"
     },
     "output_type": "display_data"
    }
   ],
   "source": [
    "#plotting the rmse values against k values\n",
    "curve = pd.DataFrame(rmse_val) #elbow curve \n",
    "curve.plot()"
   ]
  },
  {
   "cell_type": "code",
   "execution_count": 39,
   "id": "930890b2",
   "metadata": {},
   "outputs": [
    {
     "name": "stdout",
     "output_type": "stream",
     "text": [
      "R-squared is 0.48326248002519445\n"
     ]
    }
   ],
   "source": [
    "# Using K=7 (lowest RSME value) to check fit and find R-squared\n",
    "knn_model = KNeighborsRegressor(n_neighbors=7).fit(X_train, y_train)\n",
    "\n",
    "score_knn = knn_model.score(X_test, y_test)\n",
    "print('R-squared is {}'.format(score_knn))"
   ]
  },
  {
   "cell_type": "markdown",
   "id": "f142d409",
   "metadata": {},
   "source": [
    "# Summary"
   ]
  },
  {
   "cell_type": "markdown",
   "id": "b6d69090",
   "metadata": {},
   "source": [
    "For this particular dataset, the OLS regression model outperforms the KNN regression model. The OLS model performs very vell on used car values under $50,000. "
   ]
  }
 ],
 "metadata": {
  "kernelspec": {
   "display_name": "Python 3 (ipykernel)",
   "language": "python",
   "name": "python3"
  },
  "language_info": {
   "codemirror_mode": {
    "name": "ipython",
    "version": 3
   },
   "file_extension": ".py",
   "mimetype": "text/x-python",
   "name": "python",
   "nbconvert_exporter": "python",
   "pygments_lexer": "ipython3",
   "version": "3.9.12"
  }
 },
 "nbformat": 4,
 "nbformat_minor": 5
}
